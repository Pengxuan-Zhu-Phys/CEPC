{
 "cells": [
  {
   "cell_type": "code",
   "execution_count": 1,
   "id": "6b17db1b",
   "metadata": {},
   "outputs": [],
   "source": [
    "%matplotlib inline\n",
    "%load_ext autoreload\n",
    "%autoreload 2\n",
    "\n",
    "import sys,os\n",
    "sys.path.append(os.path.expanduser('~/Desktop/ScanCraft/ScanCraft/')) # ubuntu"
   ]
  },
  {
   "cell_type": "markdown",
   "id": "57cf8266",
   "metadata": {},
   "source": [
    "# 准备数据"
   ]
  },
  {
   "cell_type": "code",
   "execution_count": 2,
   "id": "7846d942",
   "metadata": {},
   "outputs": [],
   "source": [
    "import pathlib, pandas"
   ]
  },
  {
   "cell_type": "markdown",
   "id": "26001b5d",
   "metadata": {},
   "source": [
    "## 读取 csv 文件"
   ]
  },
  {
   "cell_type": "code",
   "execution_count": 3,
   "id": "e553c686",
   "metadata": {},
   "outputs": [],
   "source": [
    "def ReadCsvs(path_list,label=0):\n",
    "    df_dict = {}\n",
    "    for csv_path in path_list:\n",
    "        process = csv_path.stem.split('_',1)[1]\n",
    "        print( f'  {process:7}: {str(csv_path)+',':18}',end='')\n",
    "        df = pandas.read_csv( csv_path )\n",
    "        print(f'lines: {df.shape[0]}->dropna->',end='')\n",
    "        df.dropna( inplace=True )\n",
    "        print(df.shape[0],end='; ')\n",
    "        df['process'] = process\n",
    "        df['label'] = label\n",
    "        print(f'label={label}')\n",
    "        df_dict[process] = df\n",
    "    return df_dict"
   ]
  },
  {
   "cell_type": "markdown",
   "id": "cbcb911d",
   "metadata": {},
   "source": [
    "### 背景"
   ]
  },
  {
   "cell_type": "code",
   "execution_count": 4,
   "id": "bee63111",
   "metadata": {},
   "outputs": [],
   "source": [
    "# 查找 csv 文件\n",
    "BKG_paths = sorted( pathlib.Path().glob('BKG_*.csv') )"
   ]
  },
  {
   "cell_type": "code",
   "execution_count": 5,
   "id": "288509b1",
   "metadata": {},
   "outputs": [
    {
     "name": "stdout",
     "output_type": "stream",
     "text": [
      "  MuMuvv : BKG_MuMuvv.csv,   lines: 523812->dropna->523812; label=0\n",
      "  TauTau : BKG_TauTau.csv,   lines: 515380->dropna->506988; label=0\n",
      "  WW     : BKG_WW.csv,       lines: 445118->dropna->430109; label=0\n",
      "  Wmuv   : BKG_Wmuv.csv,     lines: 1287883->dropna->1268273; label=0\n",
      "  ZZ     : BKG_ZZ.csv,       lines: 366398->dropna->359179; label=0\n",
      "  Zh     : BKG_Zh.csv,       lines: 500001->dropna->488489; label=0\n",
      "  Zll    : BKG_Zll.csv,      lines: 779988->dropna->771374; label=0\n"
     ]
    }
   ],
   "source": [
    "BKG_df = ReadCsvs(BKG_paths,0)"
   ]
  },
  {
   "cell_type": "markdown",
   "id": "fc4a6e63",
   "metadata": {},
   "source": [
    "### 信号"
   ]
  },
  {
   "cell_type": "code",
   "execution_count": 6,
   "id": "425bd7ad",
   "metadata": {},
   "outputs": [],
   "source": [
    "SGN_paths = [pathlib.Path('./SGN_122_45.csv')]"
   ]
  },
  {
   "cell_type": "code",
   "execution_count": 7,
   "id": "16e94ddd",
   "metadata": {},
   "outputs": [
    {
     "name": "stdout",
     "output_type": "stream",
     "text": [
      "  122_45 : SGN_122_45.csv,   lines: 4967978->dropna->4967953; label=1\n"
     ]
    }
   ],
   "source": [
    "SGN_df = ReadCsvs(SGN_paths,1)"
   ]
  },
  {
   "cell_type": "markdown",
   "id": "7e034b22",
   "metadata": {},
   "source": [
    "### 整合 DataFrames"
   ]
  },
  {
   "cell_type": "code",
   "execution_count": 9,
   "id": "dc793d74",
   "metadata": {},
   "outputs": [
    {
     "name": "stdout",
     "output_type": "stream",
     "text": [
      "All data: (9316177, 76)\n"
     ]
    }
   ],
   "source": [
    "df_list = [df for dfd in [SGN_df,BKG_df] for df in dfd.values()]\n",
    "Data = pandas.concat(df_list, ignore_index=True, copy=False)\n",
    "print('All data:', Data.shape)"
   ]
  },
  {
   "cell_type": "code",
   "execution_count": 10,
   "id": "e0be586d",
   "metadata": {
    "scrolled": true
   },
   "outputs": [
    {
     "data": {
      "text/plain": [
       "['ctheta_mA',\n",
       " 'ctheta_mB',\n",
       " 'ctheta_mC',\n",
       " 'ctheta_mMax',\n",
       " 'ctheta_mO',\n",
       " 'ctheta_pA',\n",
       " 'ctheta_pB',\n",
       " 'ctheta_pC',\n",
       " 'ctheta_pMax',\n",
       " 'ctheta_pO',\n",
       " 'dRIaIb_A',\n",
       " 'dRIaIb_B',\n",
       " 'dRIaIb_C',\n",
       " 'dRIaIb_O',\n",
       " 'dRVaIa_A',\n",
       " 'dRVaIa_B',\n",
       " 'dRVaIa_C',\n",
       " 'dRVaIa_O',\n",
       " 'dRVaVb',\n",
       " 'dRVbIb_A',\n",
       " 'dRVbIb_B',\n",
       " 'dRVbIb_C',\n",
       " 'dRVbIb_O',\n",
       " 'label',\n",
       " 'mInv',\n",
       " 'mLSPmax',\n",
       " 'mRCLSP',\n",
       " 'mRCmax',\n",
       " 'mRCmin',\n",
       " 'mRecoil',\n",
       " 'mVV',\n",
       " 'pIa_A.E',\n",
       " 'pIa_A.px',\n",
       " 'pIa_A.py',\n",
       " 'pIa_A.pz',\n",
       " 'pIa_B.E',\n",
       " 'pIa_B.px',\n",
       " 'pIa_B.py',\n",
       " 'pIa_B.pz',\n",
       " 'pIa_C.E',\n",
       " 'pIa_C.px',\n",
       " 'pIa_C.py',\n",
       " 'pIa_C.pz',\n",
       " 'pIa_O.E',\n",
       " 'pIa_O.px',\n",
       " 'pIa_O.py',\n",
       " 'pIa_O.pz',\n",
       " 'pIb_A.E',\n",
       " 'pIb_A.px',\n",
       " 'pIb_A.py',\n",
       " 'pIb_A.pz',\n",
       " 'pIb_B.E',\n",
       " 'pIb_B.px',\n",
       " 'pIb_B.py',\n",
       " 'pIb_B.pz',\n",
       " 'pIb_C.E',\n",
       " 'pIb_C.px',\n",
       " 'pIb_C.py',\n",
       " 'pIb_C.pz',\n",
       " 'pIb_O.E',\n",
       " 'pIb_O.px',\n",
       " 'pIb_O.py',\n",
       " 'pIb_O.pz',\n",
       " 'pMiss.E',\n",
       " 'pMiss.px',\n",
       " 'pMiss.py',\n",
       " 'pMiss.pz',\n",
       " 'pVa.E',\n",
       " 'pVa.px',\n",
       " 'pVa.py',\n",
       " 'pVa.pz',\n",
       " 'pVb.E',\n",
       " 'pVb.px',\n",
       " 'pVb.py',\n",
       " 'pVb.pz',\n",
       " 'process']"
      ]
     },
     "execution_count": 10,
     "metadata": {},
     "output_type": "execute_result"
    }
   ],
   "source": [
    "sorted(Data.columns)"
   ]
  },
  {
   "cell_type": "markdown",
   "id": "eade72e0",
   "metadata": {},
   "source": [
    "## 保存所有数据至 csv 文件\n",
    "将 Data 保存至硬盘"
   ]
  },
  {
   "cell_type": "code",
   "execution_count": 11,
   "id": "82821088",
   "metadata": {},
   "outputs": [],
   "source": [
    "Data.to_csv('Data.csv')"
   ]
  },
  {
   "cell_type": "markdown",
   "id": "a593bc78",
   "metadata": {},
   "source": [
    "## 重新读入参数\n",
    "**LoadPoint**: 读入所有数据 Data"
   ]
  },
  {
   "cell_type": "code",
   "execution_count": 1,
   "id": "22de7ea3",
   "metadata": {},
   "outputs": [],
   "source": [
    "import pandas"
   ]
  },
  {
   "cell_type": "code",
   "execution_count": 2,
   "id": "c829c8ea",
   "metadata": {},
   "outputs": [],
   "source": [
    "Data = pandas.read_csv('./Data.csv', index_col=0)"
   ]
  },
  {
   "cell_type": "code",
   "execution_count": 3,
   "id": "fb0778a1",
   "metadata": {
    "scrolled": true
   },
   "outputs": [
    {
     "data": {
      "text/html": [
       "<div>\n",
       "<style scoped>\n",
       "    .dataframe tbody tr th:only-of-type {\n",
       "        vertical-align: middle;\n",
       "    }\n",
       "\n",
       "    .dataframe tbody tr th {\n",
       "        vertical-align: top;\n",
       "    }\n",
       "\n",
       "    .dataframe thead th {\n",
       "        text-align: right;\n",
       "    }\n",
       "</style>\n",
       "<table border=\"1\" class=\"dataframe\">\n",
       "  <thead>\n",
       "    <tr style=\"text-align: right;\">\n",
       "      <th></th>\n",
       "      <th>ctheta_mMax</th>\n",
       "      <th>ctheta_mC</th>\n",
       "      <th>ctheta_mO</th>\n",
       "      <th>ctheta_pO</th>\n",
       "      <th>dRIaIb_O</th>\n",
       "      <th>dRVbIb_C</th>\n",
       "      <th>pIa_A.py</th>\n",
       "      <th>pIb_O.pz</th>\n",
       "      <th>pVb.pz</th>\n",
       "      <th>pIb_A.py</th>\n",
       "      <th>...</th>\n",
       "      <th>dRIaIb_A</th>\n",
       "      <th>dRVaIa_A</th>\n",
       "      <th>dRIaIb_B</th>\n",
       "      <th>dRVaVb</th>\n",
       "      <th>ctheta_pB</th>\n",
       "      <th>ctheta_pA</th>\n",
       "      <th>pIb_C.py</th>\n",
       "      <th>dRVbIb_A</th>\n",
       "      <th>process</th>\n",
       "      <th>label</th>\n",
       "    </tr>\n",
       "  </thead>\n",
       "  <tbody>\n",
       "    <tr>\n",
       "      <th>0</th>\n",
       "      <td>0.659805</td>\n",
       "      <td>0.659805</td>\n",
       "      <td>0.711039</td>\n",
       "      <td>-0.711039</td>\n",
       "      <td>3.518750e+00</td>\n",
       "      <td>0.761788</td>\n",
       "      <td>24.78810</td>\n",
       "      <td>3.883110</td>\n",
       "      <td>49.41830</td>\n",
       "      <td>-44.94940</td>\n",
       "      <td>...</td>\n",
       "      <td>2.59372</td>\n",
       "      <td>1.93458</td>\n",
       "      <td>2.55771</td>\n",
       "      <td>2.334730</td>\n",
       "      <td>-0.591563</td>\n",
       "      <td>-0.619335</td>\n",
       "      <td>36.30320</td>\n",
       "      <td>0.761788</td>\n",
       "      <td>122_45</td>\n",
       "      <td>1</td>\n",
       "    </tr>\n",
       "    <tr>\n",
       "      <th>1</th>\n",
       "      <td>0.054072</td>\n",
       "      <td>0.054072</td>\n",
       "      <td>0.530901</td>\n",
       "      <td>-0.530901</td>\n",
       "      <td>3.143460e+00</td>\n",
       "      <td>0.621042</td>\n",
       "      <td>34.65680</td>\n",
       "      <td>0.606065</td>\n",
       "      <td>46.94880</td>\n",
       "      <td>-7.16583</td>\n",
       "      <td>...</td>\n",
       "      <td>3.99403</td>\n",
       "      <td>1.88743</td>\n",
       "      <td>3.73875</td>\n",
       "      <td>3.932290</td>\n",
       "      <td>-0.118158</td>\n",
       "      <td>-0.757386</td>\n",
       "      <td>-4.53116</td>\n",
       "      <td>0.621042</td>\n",
       "      <td>122_45</td>\n",
       "      <td>1</td>\n",
       "    </tr>\n",
       "    <tr>\n",
       "      <th>2</th>\n",
       "      <td>0.716425</td>\n",
       "      <td>0.716425</td>\n",
       "      <td>0.594378</td>\n",
       "      <td>-0.594378</td>\n",
       "      <td>2.220450e-16</td>\n",
       "      <td>2.258520</td>\n",
       "      <td>-11.09630</td>\n",
       "      <td>38.210600</td>\n",
       "      <td>-3.67858</td>\n",
       "      <td>49.38030</td>\n",
       "      <td>...</td>\n",
       "      <td>2.23362</td>\n",
       "      <td>2.73643</td>\n",
       "      <td>2.24983</td>\n",
       "      <td>2.243170</td>\n",
       "      <td>-0.719274</td>\n",
       "      <td>-0.444524</td>\n",
       "      <td>7.37471</td>\n",
       "      <td>2.258520</td>\n",
       "      <td>122_45</td>\n",
       "      <td>1</td>\n",
       "    </tr>\n",
       "    <tr>\n",
       "      <th>3</th>\n",
       "      <td>0.715991</td>\n",
       "      <td>0.715991</td>\n",
       "      <td>0.905679</td>\n",
       "      <td>-0.905679</td>\n",
       "      <td>0.000000e+00</td>\n",
       "      <td>3.540630</td>\n",
       "      <td>2.90842</td>\n",
       "      <td>-24.698300</td>\n",
       "      <td>44.12420</td>\n",
       "      <td>-63.26180</td>\n",
       "      <td>...</td>\n",
       "      <td>2.54963</td>\n",
       "      <td>3.21819</td>\n",
       "      <td>2.57593</td>\n",
       "      <td>0.926963</td>\n",
       "      <td>0.287136</td>\n",
       "      <td>-0.697991</td>\n",
       "      <td>-13.63190</td>\n",
       "      <td>3.540630</td>\n",
       "      <td>122_45</td>\n",
       "      <td>1</td>\n",
       "    </tr>\n",
       "    <tr>\n",
       "      <th>4</th>\n",
       "      <td>0.722299</td>\n",
       "      <td>0.722299</td>\n",
       "      <td>-0.036763</td>\n",
       "      <td>0.036763</td>\n",
       "      <td>1.110220e-16</td>\n",
       "      <td>2.008010</td>\n",
       "      <td>52.21440</td>\n",
       "      <td>15.771200</td>\n",
       "      <td>-17.80950</td>\n",
       "      <td>-41.71130</td>\n",
       "      <td>...</td>\n",
       "      <td>2.76066</td>\n",
       "      <td>2.23936</td>\n",
       "      <td>2.77095</td>\n",
       "      <td>2.725980</td>\n",
       "      <td>-0.700130</td>\n",
       "      <td>0.096483</td>\n",
       "      <td>50.86370</td>\n",
       "      <td>2.008010</td>\n",
       "      <td>122_45</td>\n",
       "      <td>1</td>\n",
       "    </tr>\n",
       "  </tbody>\n",
       "</table>\n",
       "<p>5 rows × 76 columns</p>\n",
       "</div>"
      ],
      "text/plain": [
       "   ctheta_mMax  ctheta_mC  ctheta_mO  ctheta_pO      dRIaIb_O  dRVbIb_C  \\\n",
       "0     0.659805   0.659805   0.711039  -0.711039  3.518750e+00  0.761788   \n",
       "1     0.054072   0.054072   0.530901  -0.530901  3.143460e+00  0.621042   \n",
       "2     0.716425   0.716425   0.594378  -0.594378  2.220450e-16  2.258520   \n",
       "3     0.715991   0.715991   0.905679  -0.905679  0.000000e+00  3.540630   \n",
       "4     0.722299   0.722299  -0.036763   0.036763  1.110220e-16  2.008010   \n",
       "\n",
       "   pIa_A.py   pIb_O.pz    pVb.pz  pIb_A.py  ...  dRIaIb_A  dRVaIa_A  dRIaIb_B  \\\n",
       "0  24.78810   3.883110  49.41830 -44.94940  ...   2.59372   1.93458   2.55771   \n",
       "1  34.65680   0.606065  46.94880  -7.16583  ...   3.99403   1.88743   3.73875   \n",
       "2 -11.09630  38.210600  -3.67858  49.38030  ...   2.23362   2.73643   2.24983   \n",
       "3   2.90842 -24.698300  44.12420 -63.26180  ...   2.54963   3.21819   2.57593   \n",
       "4  52.21440  15.771200 -17.80950 -41.71130  ...   2.76066   2.23936   2.77095   \n",
       "\n",
       "     dRVaVb  ctheta_pB  ctheta_pA  pIb_C.py  dRVbIb_A  process  label  \n",
       "0  2.334730  -0.591563  -0.619335  36.30320  0.761788   122_45      1  \n",
       "1  3.932290  -0.118158  -0.757386  -4.53116  0.621042   122_45      1  \n",
       "2  2.243170  -0.719274  -0.444524   7.37471  2.258520   122_45      1  \n",
       "3  0.926963   0.287136  -0.697991 -13.63190  3.540630   122_45      1  \n",
       "4  2.725980  -0.700130   0.096483  50.86370  2.008010   122_45      1  \n",
       "\n",
       "[5 rows x 76 columns]"
      ]
     },
     "execution_count": 3,
     "metadata": {},
     "output_type": "execute_result"
    }
   ],
   "source": [
    "Data.iloc[0:5,:]"
   ]
  },
  {
   "cell_type": "code",
   "execution_count": 4,
   "id": "119a6397",
   "metadata": {},
   "outputs": [
    {
     "data": {
      "text/plain": [
       "(9316177, 76)"
      ]
     },
     "execution_count": 4,
     "metadata": {},
     "output_type": "execute_result"
    }
   ],
   "source": [
    "Data.shape"
   ]
  },
  {
   "cell_type": "code",
   "execution_count": 5,
   "id": "2def6edd",
   "metadata": {},
   "outputs": [
    {
     "data": {
      "text/plain": [
       "(9316177, 76)"
      ]
     },
     "execution_count": 5,
     "metadata": {},
     "output_type": "execute_result"
    }
   ],
   "source": [
    "# 检验数据中是否有 nan\n",
    "Data.dropna().shape"
   ]
  },
  {
   "cell_type": "code",
   "execution_count": null,
   "id": "5b6e59d3",
   "metadata": {},
   "outputs": [],
   "source": []
  },
  {
   "cell_type": "markdown",
   "id": "478db25a",
   "metadata": {},
   "source": [
    "## 取参数"
   ]
  },
  {
   "cell_type": "code",
   "execution_count": 6,
   "id": "65709d4a",
   "metadata": {},
   "outputs": [],
   "source": [
    "labelwmRC1 = [\n",
    "        \"pVa.px\", \"pVa.py\", \"pVa.pz\", \"pVa.E\", \n",
    "        \"pVb.px\", \"pVb.py\", \"pVb.pz\", \"pVb.E\", \n",
    "        \"mRCmin\", \"mRCmax\", \"mRCLSP\", \"mLSPmax\",  # 新变量\n",
    "        \"mRecoil\", \"mVV\", \"mInv\", \"dRVaVb\", ] # 新变量"
   ]
  },
  {
   "cell_type": "code",
   "execution_count": 7,
   "id": "d69c22fd",
   "metadata": {},
   "outputs": [],
   "source": [
    "features = Data[labelwmRC1].values\n",
    "labels = Data[\"label\"].values.reshape(-1,1)"
   ]
  },
  {
   "cell_type": "code",
   "execution_count": 8,
   "id": "aaec87fc",
   "metadata": {},
   "outputs": [
    {
     "data": {
      "text/plain": [
       "(9316177, 16)"
      ]
     },
     "execution_count": 8,
     "metadata": {},
     "output_type": "execute_result"
    }
   ],
   "source": [
    "features.shape"
   ]
  },
  {
   "cell_type": "code",
   "execution_count": 9,
   "id": "8fc3ddd1",
   "metadata": {},
   "outputs": [
    {
     "data": {
      "text/plain": [
       "(9316177, 1)"
      ]
     },
     "execution_count": 9,
     "metadata": {},
     "output_type": "execute_result"
    }
   ],
   "source": [
    "labels.shape"
   ]
  },
  {
   "cell_type": "markdown",
   "id": "af8d8c7e",
   "metadata": {},
   "source": [
    "## 归一化 features -> U_features\n",
    "每一列都被归缩放到 (-1, 1)"
   ]
  },
  {
   "cell_type": "code",
   "execution_count": 10,
   "id": "7da61392",
   "metadata": {},
   "outputs": [],
   "source": [
    "from sklearn.preprocessing import MaxAbsScaler"
   ]
  },
  {
   "cell_type": "code",
   "execution_count": 11,
   "id": "a5255599",
   "metadata": {},
   "outputs": [],
   "source": [
    "scaler = MaxAbsScaler().fit(features)\n",
    "U_features = scaler.transform(features)"
   ]
  },
  {
   "cell_type": "code",
   "execution_count": 12,
   "id": "3995126f",
   "metadata": {},
   "outputs": [
    {
     "data": {
      "text/plain": [
       "array([[-0.04970297,  0.29732108, -0.07725772,  0.30471993,  0.39439423,\n",
       "        -0.12443452,  0.42102918,  0.58319758,  0.37999074,  0.7341262 ,\n",
       "         0.68413218,  0.41668815,  0.49707524,  0.37425856,  0.4971855 ,\n",
       "         0.35602825],\n",
       "       [-0.0776046 ,  0.08018689, -0.37585899,  0.38438374,  0.44469567,\n",
       "        -0.31209968,  0.39998978,  0.66733238,  0.28989613,  0.66386899,\n",
       "         0.58300126,  0.32179154,  0.42449601,  0.4935152 ,  0.42459017,\n",
       "         0.59964378],\n",
       "       [-0.13620464, -0.42356803, -0.40585601,  0.59012445,  0.40353538,\n",
       "         0.09638634, -0.0313404 ,  0.41496971,  0.50370414,  0.83771017,\n",
       "         0.76658222,  0.38311762,  0.40051717,  0.41605573,  0.40060601,\n",
       "         0.34206606]])"
      ]
     },
     "execution_count": 12,
     "metadata": {},
     "output_type": "execute_result"
    }
   ],
   "source": [
    "U_features[:3,:]"
   ]
  },
  {
   "cell_type": "markdown",
   "id": "b3684abf",
   "metadata": {},
   "source": [
    "## 区分训练集、测试集"
   ]
  },
  {
   "cell_type": "code",
   "execution_count": 13,
   "id": "991e4466",
   "metadata": {},
   "outputs": [],
   "source": [
    "from sklearn.model_selection import train_test_split"
   ]
  },
  {
   "cell_type": "code",
   "execution_count": 14,
   "id": "d202a86e",
   "metadata": {},
   "outputs": [],
   "source": [
    "X_train, X_test, y_train, y_test = train_test_split(\n",
    "        U_features, labels, stratify=labels\n",
    "    )"
   ]
  },
  {
   "cell_type": "code",
   "execution_count": 15,
   "id": "a68e33dc",
   "metadata": {},
   "outputs": [
    {
     "name": "stdout",
     "output_type": "stream",
     "text": [
      "(6987132, 16), float64\n",
      "(2329045, 16), float64\n",
      "(6987132, 1), int64\n",
      "(2329045, 1), int64\n"
     ]
    }
   ],
   "source": [
    "for i in [X_train, X_test, y_train, y_test]:\n",
    "    print(f'{i.shape}, {i.dtype}')"
   ]
  },
  {
   "cell_type": "code",
   "execution_count": 16,
   "id": "3382a817",
   "metadata": {},
   "outputs": [],
   "source": [
    "# 暂存训练参数\n",
    "import numpy\n",
    "numpy.savez('train_data.npz',X_train, X_test, y_train, y_test)"
   ]
  },
  {
   "cell_type": "markdown",
   "id": "c0cfa9d0",
   "metadata": {},
   "source": [
    "**LoadPoint**: 恢复暂存的数据"
   ]
  },
  {
   "cell_type": "code",
   "execution_count": 1,
   "id": "e7d8a988",
   "metadata": {},
   "outputs": [],
   "source": [
    "# 恢复暂存的数据\n",
    "import numpy\n",
    "array = numpy.load('train_data.npz')"
   ]
  },
  {
   "cell_type": "code",
   "execution_count": 2,
   "id": "5505ca69",
   "metadata": {},
   "outputs": [],
   "source": [
    "X_train, X_test, y_train, y_test = array.values()"
   ]
  },
  {
   "cell_type": "code",
   "execution_count": 3,
   "id": "00b99d2f",
   "metadata": {},
   "outputs": [
    {
     "name": "stdout",
     "output_type": "stream",
     "text": [
      "(6987132, 16), float64\n",
      "(2329045, 16), float64\n",
      "(6987132, 1), int64\n",
      "(2329045, 1), int64\n"
     ]
    }
   ],
   "source": [
    "for i in [X_train, X_test, y_train, y_test]:\n",
    "    print(f'{i.shape}, {i.dtype}')"
   ]
  },
  {
   "cell_type": "markdown",
   "id": "ba7a63be",
   "metadata": {},
   "source": [
    "# pytorch 训练\n",
    "检查 torch 和 cuda"
   ]
  },
  {
   "cell_type": "code",
   "execution_count": 4,
   "id": "dcea5eaf",
   "metadata": {},
   "outputs": [
    {
     "name": "stdout",
     "output_type": "stream",
     "text": [
      "cuda available:  True\n",
      "Using cuda device\n"
     ]
    }
   ],
   "source": [
    "import torch\n",
    "print( 'cuda available: ', torch.cuda.is_available() )\n",
    "device = torch.accelerator.current_accelerator()\n",
    "print( f\"Using {device} device\" )"
   ]
  },
  {
   "cell_type": "code",
   "execution_count": 21,
   "id": "2940cd04",
   "metadata": {},
   "outputs": [],
   "source": [
    "# 启用同步模式\n",
    "# import os\n",
    "# os.environ['CUDA_LAUNCH_BLOCKING'] = '1'"
   ]
  },
  {
   "cell_type": "code",
   "execution_count": 22,
   "id": "d11584e5",
   "metadata": {},
   "outputs": [],
   "source": [
    "# 释放显存\n",
    "# torch.cuda.empty_cache()"
   ]
  },
  {
   "cell_type": "markdown",
   "id": "11bb1a9f",
   "metadata": {},
   "source": [
    "转移数据到 cuda 或可用设备 device， 注意此时变量名 X_train 等已经*重新指向* **显卡** 上的数据覆盖\n",
    "* 出现过的问题：读取SGN数据时，没有使用dropna去掉nan数据，导致训练时报错"
   ]
  },
  {
   "cell_type": "code",
   "execution_count": 23,
   "id": "fd4c3b9d",
   "metadata": {},
   "outputs": [],
   "source": [
    "# device='cpu'"
   ]
  },
  {
   "cell_type": "code",
   "execution_count": 5,
   "id": "96c2d229",
   "metadata": {},
   "outputs": [],
   "source": [
    "import numpy # 尝试双精度"
   ]
  },
  {
   "cell_type": "code",
   "execution_count": 6,
   "id": "7254d31a",
   "metadata": {},
   "outputs": [],
   "source": [
    "G_X_train, G_X_test, G_y_train, G_y_test = map(\n",
    "    lambda a : torch.from_numpy(a.astype(numpy.float32)).to(device),\n",
    "    [X_train, X_test, y_train, y_test]\n",
    ")"
   ]
  },
  {
   "cell_type": "code",
   "execution_count": 7,
   "id": "4a2882e2",
   "metadata": {},
   "outputs": [
    {
     "data": {
      "text/plain": [
       "(tensor([[-0.3478,  0.0549,  0.1832,  ...,  0.2271,  0.5407,  0.1979],\n",
       "         [ 0.2581,  0.0364,  0.3622,  ...,  0.3237,  0.4944,  0.2996],\n",
       "         [-0.0515,  0.1437,  0.0243,  ...,  0.3139,  0.1668,  0.4660],\n",
       "         ...,\n",
       "         [-0.2878,  0.0748, -0.2132,  ...,  0.3027,  0.4157,  0.2381],\n",
       "         [-0.0863, -0.1770,  0.3690,  ...,  0.5691,  0.2722,  0.5932],\n",
       "         [ 0.2256,  0.3165,  0.0150,  ...,  0.1594,  0.5656,  0.1385]],\n",
       "        device='cuda:0'),\n",
       " tensor([[0.],\n",
       "         [0.],\n",
       "         [1.],\n",
       "         ...,\n",
       "         [0.],\n",
       "         [0.],\n",
       "         [1.]], device='cuda:0'))"
      ]
     },
     "execution_count": 7,
     "metadata": {},
     "output_type": "execute_result"
    }
   ],
   "source": [
    "G_X_train, G_y_test"
   ]
  },
  {
   "cell_type": "markdown",
   "id": "608bc5e7",
   "metadata": {},
   "source": [
    "## 模型"
   ]
  },
  {
   "cell_type": "code",
   "execution_count": 8,
   "id": "5e8ffa01",
   "metadata": {},
   "outputs": [],
   "source": [
    "import torch.nn as nn"
   ]
  },
  {
   "cell_type": "code",
   "execution_count": 9,
   "id": "b6af6eb7",
   "metadata": {},
   "outputs": [],
   "source": [
    "class SimpleNN(nn.Module):\n",
    "    def __init__(self, input_size):\n",
    "        super(SimpleNN, self).__init__()\n",
    "        self.fc1 = nn.Linear(input_size, 64)\n",
    "        self.relu = nn.ReLU()\n",
    "        self.fc2 = nn.Linear(64, 32)\n",
    "        self.fc3 = nn.Linear(32, 1)\n",
    "        self.sigmoid = nn.Sigmoid()\n",
    "\n",
    "    def forward(self, x):\n",
    "        x = self.relu(self.fc1(x))\n",
    "        x = self.relu(self.fc2(x))\n",
    "        x = self.sigmoid(self.fc3(x))  # Ensures outputs are in [0, 1]\n",
    "        return x"
   ]
  },
  {
   "cell_type": "code",
   "execution_count": 10,
   "id": "f5bc87b6",
   "metadata": {},
   "outputs": [],
   "source": [
    "# 实例化模型\n",
    "input_size = X_train.shape[1]\n",
    "model = SimpleNN(input_size=input_size).to(device)"
   ]
  },
  {
   "cell_type": "code",
   "execution_count": 30,
   "id": "6d914f4d",
   "metadata": {},
   "outputs": [],
   "source": [
    "# next(model.parameters()).device"
   ]
  },
  {
   "cell_type": "markdown",
   "id": "b383ee9b",
   "metadata": {},
   "source": [
    "## 损失函数、优化器"
   ]
  },
  {
   "cell_type": "code",
   "execution_count": 11,
   "id": "9a44e4b4",
   "metadata": {},
   "outputs": [],
   "source": [
    "import torch.optim as optim"
   ]
  },
  {
   "cell_type": "code",
   "execution_count": 22,
   "id": "39259152",
   "metadata": {},
   "outputs": [],
   "source": [
    "criterion = nn.BCELoss()\n",
    "optimizer = optim.Adam(model.parameters(), lr=0.001)"
   ]
  },
  {
   "cell_type": "markdown",
   "id": "12547170",
   "metadata": {},
   "source": [
    "## 训练"
   ]
  },
  {
   "cell_type": "code",
   "execution_count": 37,
   "id": "2afc49e3",
   "metadata": {
    "scrolled": true
   },
   "outputs": [
    {
     "name": "stdout",
     "output_type": "stream",
     "text": [
      "Epoch 1/100, Average Loss: 0.2062\n",
      "Epoch 2/100, Average Loss: 0.2062\n",
      "Epoch 3/100, Average Loss: 0.2062\n",
      "Epoch 4/100, Average Loss: 0.2061\n",
      "Epoch 5/100, Average Loss: 0.2061\n",
      "Epoch 6/100, Average Loss: 0.2061\n",
      "Epoch 7/100, Average Loss: 0.2061\n",
      "Epoch 8/100, Average Loss: 0.2060\n",
      "Epoch 9/100, Average Loss: 0.2060\n",
      "Epoch 10/100, Average Loss: 0.2060\n",
      "Epoch 11/100, Average Loss: 0.2060\n",
      "Epoch 12/100, Average Loss: 0.2060\n",
      "Epoch 13/100, Average Loss: 0.2059\n",
      "Epoch 14/100, Average Loss: 0.2059\n",
      "Epoch 15/100, Average Loss: 0.2059\n",
      "Epoch 16/100, Average Loss: 0.2060\n",
      "Epoch 17/100, Average Loss: 0.2060\n",
      "Epoch 18/100, Average Loss: 0.2061\n",
      "Epoch 19/100, Average Loss: 0.2062\n",
      "Epoch 20/100, Average Loss: 0.2060\n",
      "Epoch 21/100, Average Loss: 0.2058\n",
      "Epoch 22/100, Average Loss: 0.2058\n",
      "Epoch 23/100, Average Loss: 0.2059\n",
      "Epoch 24/100, Average Loss: 0.2059\n",
      "Epoch 25/100, Average Loss: 0.2058\n",
      "Epoch 26/100, Average Loss: 0.2057\n",
      "Epoch 27/100, Average Loss: 0.2057\n",
      "Epoch 28/100, Average Loss: 0.2058\n",
      "Epoch 29/100, Average Loss: 0.2057\n",
      "Epoch 30/100, Average Loss: 0.2056\n",
      "Epoch 31/100, Average Loss: 0.2056\n",
      "Epoch 32/100, Average Loss: 0.2056\n",
      "Epoch 33/100, Average Loss: 0.2056\n",
      "Epoch 34/100, Average Loss: 0.2055\n",
      "Epoch 35/100, Average Loss: 0.2055\n",
      "Epoch 36/100, Average Loss: 0.2056\n",
      "Epoch 37/100, Average Loss: 0.2055\n",
      "Epoch 38/100, Average Loss: 0.2055\n",
      "Epoch 39/100, Average Loss: 0.2055\n",
      "Epoch 40/100, Average Loss: 0.2055\n",
      "Epoch 41/100, Average Loss: 0.2054\n",
      "Epoch 42/100, Average Loss: 0.2054\n",
      "Epoch 43/100, Average Loss: 0.2054\n",
      "Epoch 44/100, Average Loss: 0.2054\n",
      "Epoch 45/100, Average Loss: 0.2054\n",
      "Epoch 46/100, Average Loss: 0.2053\n",
      "Epoch 47/100, Average Loss: 0.2053\n",
      "Epoch 48/100, Average Loss: 0.2053\n",
      "Epoch 49/100, Average Loss: 0.2053\n",
      "Epoch 50/100, Average Loss: 0.2053\n",
      "Epoch 51/100, Average Loss: 0.2052\n",
      "Epoch 52/100, Average Loss: 0.2052\n",
      "Epoch 53/100, Average Loss: 0.2052\n",
      "Epoch 54/100, Average Loss: 0.2052\n",
      "Epoch 55/100, Average Loss: 0.2052\n",
      "Epoch 56/100, Average Loss: 0.2052\n",
      "Epoch 57/100, Average Loss: 0.2051\n",
      "Epoch 58/100, Average Loss: 0.2051\n",
      "Epoch 59/100, Average Loss: 0.2051\n",
      "Epoch 60/100, Average Loss: 0.2051\n",
      "Epoch 61/100, Average Loss: 0.2051\n",
      "Epoch 62/100, Average Loss: 0.2051\n",
      "Epoch 63/100, Average Loss: 0.2050\n",
      "Epoch 64/100, Average Loss: 0.2050\n",
      "Epoch 65/100, Average Loss: 0.2050\n",
      "Epoch 66/100, Average Loss: 0.2050\n",
      "Epoch 67/100, Average Loss: 0.2050\n",
      "Epoch 68/100, Average Loss: 0.2049\n",
      "Epoch 69/100, Average Loss: 0.2049\n",
      "Epoch 70/100, Average Loss: 0.2049\n",
      "Epoch 71/100, Average Loss: 0.2049\n",
      "Epoch 72/100, Average Loss: 0.2049\n",
      "Epoch 73/100, Average Loss: 0.2049\n",
      "Epoch 74/100, Average Loss: 0.2048\n",
      "Epoch 75/100, Average Loss: 0.2048\n",
      "Epoch 76/100, Average Loss: 0.2048\n",
      "Epoch 77/100, Average Loss: 0.2048\n",
      "Epoch 78/100, Average Loss: 0.2048\n",
      "Epoch 79/100, Average Loss: 0.2048\n",
      "Epoch 80/100, Average Loss: 0.2047\n",
      "Epoch 81/100, Average Loss: 0.2047\n",
      "Epoch 82/100, Average Loss: 0.2047\n",
      "Epoch 83/100, Average Loss: 0.2047\n",
      "Epoch 84/100, Average Loss: 0.2047\n",
      "Epoch 85/100, Average Loss: 0.2047\n",
      "Epoch 86/100, Average Loss: 0.2046\n",
      "Epoch 87/100, Average Loss: 0.2046\n",
      "Epoch 88/100, Average Loss: 0.2046\n",
      "Epoch 89/100, Average Loss: 0.2046\n",
      "Epoch 90/100, Average Loss: 0.2046\n",
      "Epoch 91/100, Average Loss: 0.2046\n",
      "Epoch 92/100, Average Loss: 0.2045\n",
      "Epoch 93/100, Average Loss: 0.2045\n",
      "Epoch 94/100, Average Loss: 0.2045\n",
      "Epoch 95/100, Average Loss: 0.2045\n",
      "Epoch 96/100, Average Loss: 0.2045\n",
      "Epoch 97/100, Average Loss: 0.2045\n",
      "Epoch 98/100, Average Loss: 0.2044\n",
      "Epoch 99/100, Average Loss: 0.2044\n",
      "Epoch 100/100, Average Loss: 0.2044\n"
     ]
    }
   ],
   "source": [
    "epochs = 100\n",
    "batch_size = 2**25\n",
    "for epoch in range(epochs):\n",
    "    model.train()\n",
    "    total_loss = 0\n",
    "    num_batches = 0\n",
    "    permutation = torch.randperm(G_X_train.size()[0])\n",
    "    for i in range(0, G_X_train.size()[0], batch_size):\n",
    "        indices = permutation[i:i + batch_size]\n",
    "        batch_X, batch_y = G_X_train[indices], G_y_train[indices]\n",
    "\n",
    "        # 前向传播\n",
    "        outputs = model(batch_X)\n",
    "        loss = criterion(outputs, batch_y)\n",
    "\n",
    "        # 反向传播和优化\n",
    "        optimizer.zero_grad()\n",
    "        loss.backward()\n",
    "        optimizer.step()\n",
    "\n",
    "        total_loss += loss.item()\n",
    "        num_batches += 1\n",
    "        # 打印每个批次的损失\n",
    "#         print(f\"Epoch {epoch + 1}/{epochs}, Batch {num_batches}, Loss: {loss.item():.4f}\") \n",
    "# 由于 batch size 非常大，实际上只循环了一次\n",
    "\n",
    "    # 计算每个 epoch 的平均损失\n",
    "    average_loss = total_loss / num_batches\n",
    "    # 打印每个 epoch 的平均损失\n",
    "    print(f\"Epoch {epoch + 1}/{epochs}, Average Loss: {average_loss:.4f}\")"
   ]
  },
  {
   "cell_type": "code",
   "execution_count": 15,
   "id": "82c22c3e",
   "metadata": {
    "collapsed": true
   },
   "outputs": [
    {
     "name": "stdout",
     "output_type": "stream",
     "text": [
      "Tue Feb 11 18:27:03 2025       \n",
      "+-----------------------------------------------------------------------------------------+\n",
      "| NVIDIA-SMI 565.77.01              Driver Version: 566.36         CUDA Version: 12.7     |\n",
      "|-----------------------------------------+------------------------+----------------------+\n",
      "| GPU  Name                 Persistence-M | Bus-Id          Disp.A | Volatile Uncorr. ECC |\n",
      "| Fan  Temp   Perf          Pwr:Usage/Cap |           Memory-Usage | GPU-Util  Compute M. |\n",
      "|                                         |                        |               MIG M. |\n",
      "|=========================================+========================+======================|\n",
      "|   0  NVIDIA GeForce GTX 1080 Ti     On  |   00000000:01:00.0  On |                  N/A |\n",
      "| 31%   57C    P2             75W /  250W |   10765MiB /  11264MiB |     13%      Default |\n",
      "|                                         |                        |                  N/A |\n",
      "+-----------------------------------------+------------------------+----------------------+\n",
      "|   1  NVIDIA GeForce GTX 1080 Ti     On  |   00000000:02:00.0 Off |                  N/A |\n",
      "| 25%   57C    P2             49W /  250W |   10765MiB /  11264MiB |      1%      Default |\n",
      "|                                         |                        |                  N/A |\n",
      "+-----------------------------------------+------------------------+----------------------+\n",
      "                                                                                         \n",
      "+-----------------------------------------------------------------------------------------+\n",
      "| Processes:                                                                              |\n",
      "|  GPU   GI   CI        PID   Type   Process name                              GPU Memory |\n",
      "|        ID   ID                                                               Usage      |\n",
      "|=========================================================================================|\n",
      "|    0   N/A  N/A       679      C   /python3.13                                 N/A      |\n",
      "|    1   N/A  N/A       679      C   /python3.13                                 N/A      |\n",
      "+-----------------------------------------------------------------------------------------+\n",
      "命令退出状态码: 0\n",
      "|===========================================================================|\n",
      "|                  PyTorch CUDA memory summary, device ID 0                 |\n",
      "|---------------------------------------------------------------------------|\n",
      "|            CUDA OOMs: 0            |        cudaMalloc retries: 0         |\n",
      "|===========================================================================|\n",
      "|        Metric         | Cur Usage  | Peak Usage | Tot Alloc  | Tot Freed  |\n",
      "|---------------------------------------------------------------------------|\n",
      "| Allocated memory      |   1126 MiB |   6245 MiB |   1288 GiB |   1287 GiB |\n",
      "|       from large pool |   1126 MiB |   6245 MiB |   1288 GiB |   1287 GiB |\n",
      "|       from small pool |      0 MiB |      1 MiB |      0 GiB |      0 GiB |\n",
      "|---------------------------------------------------------------------------|\n",
      "| Active memory         |   1126 MiB |   6245 MiB |   1288 GiB |   1287 GiB |\n",
      "|       from large pool |   1126 MiB |   6245 MiB |   1288 GiB |   1287 GiB |\n",
      "|       from small pool |      0 MiB |      1 MiB |      0 GiB |      0 GiB |\n",
      "|---------------------------------------------------------------------------|\n",
      "| Requested memory      |   1126 MiB |   6244 MiB |   1288 GiB |   1287 GiB |\n",
      "|       from large pool |   1126 MiB |   6244 MiB |   1288 GiB |   1287 GiB |\n",
      "|       from small pool |      0 MiB |      1 MiB |      0 GiB |      0 GiB |\n",
      "|---------------------------------------------------------------------------|\n",
      "| GPU reserved memory   |   9664 MiB |   9664 MiB |   9664 MiB |      0 B   |\n",
      "|       from large pool |   9662 MiB |   9662 MiB |   9662 MiB |      0 B   |\n",
      "|       from small pool |      2 MiB |      2 MiB |      2 MiB |      0 B   |\n",
      "|---------------------------------------------------------------------------|\n",
      "| Non-releasable memory |   2055 MiB |   2929 MiB | 348790 MiB | 346735 MiB |\n",
      "|       from large pool |   2053 MiB |   2927 MiB | 348540 MiB | 346487 MiB |\n",
      "|       from small pool |      1 MiB |      1 MiB |    249 MiB |    247 MiB |\n",
      "|---------------------------------------------------------------------------|\n",
      "| Allocations           |      34    |      40    |    4995    |    4961    |\n",
      "|       from large pool |      10    |      14    |    2286    |    2276    |\n",
      "|       from small pool |      24    |      30    |    2709    |    2685    |\n",
      "|---------------------------------------------------------------------------|\n",
      "| Active allocs         |      34    |      40    |    4995    |    4961    |\n",
      "|       from large pool |      10    |      14    |    2286    |    2276    |\n",
      "|       from small pool |      24    |      30    |    2709    |    2685    |\n",
      "|---------------------------------------------------------------------------|\n",
      "| GPU reserved segments |      14    |      14    |      14    |       0    |\n",
      "|       from large pool |      13    |      13    |      13    |       0    |\n",
      "|       from small pool |       1    |       1    |       1    |       0    |\n",
      "|---------------------------------------------------------------------------|\n",
      "| Non-releasable allocs |       8    |      12    |    1999    |    1991    |\n",
      "|       from large pool |       6    |      10    |    1383    |    1377    |\n",
      "|       from small pool |       2    |       4    |     616    |     614    |\n",
      "|---------------------------------------------------------------------------|\n",
      "| Oversize allocations  |       0    |       0    |       0    |       0    |\n",
      "|---------------------------------------------------------------------------|\n",
      "| Oversize GPU segments |       0    |       0    |       0    |       0    |\n",
      "|===========================================================================|\n",
      "\n"
     ]
    }
   ],
   "source": [
    "# 显卡信息\n",
    "import os\n",
    "exit_status = os.system('nvidia-smi')\n",
    "print(f\"命令退出状态码: {exit_status}\")\n",
    "print(torch.cuda.memory_summary())"
   ]
  },
  {
   "cell_type": "markdown",
   "id": "4ef0de56",
   "metadata": {},
   "source": [
    "## 测试"
   ]
  },
  {
   "cell_type": "code",
   "execution_count": 25,
   "id": "b48fa27e",
   "metadata": {},
   "outputs": [],
   "source": [
    "from sklearn.metrics import accuracy_score, roc_auc_score"
   ]
  },
  {
   "cell_type": "code",
   "execution_count": 38,
   "id": "b8740d44",
   "metadata": {},
   "outputs": [
    {
     "name": "stdout",
     "output_type": "stream",
     "text": [
      "Accuracy: 0.9217, ROC-AUC: 0.9668\n"
     ]
    }
   ],
   "source": [
    "model.eval()\n",
    "with torch.no_grad():\n",
    "    y_pred = model(G_X_test).squeeze().cpu()\n",
    "    y_pred_labels = (y_pred > 0.5).float()\n",
    "    accuracy = accuracy_score(y_test, y_pred_labels)\n",
    "    roc_auc = roc_auc_score(y_test, y_pred)\n",
    "    print(f\"Accuracy: {accuracy:.4f}, ROC-AUC: {roc_auc:.4f}\")"
   ]
  },
  {
   "cell_type": "code",
   "execution_count": 30,
   "id": "d4290e20",
   "metadata": {},
   "outputs": [
    {
     "data": {
      "text/plain": [
       "tensor([0., 0., 1.,  ..., 0., 0., 1.])"
      ]
     },
     "execution_count": 30,
     "metadata": {},
     "output_type": "execute_result"
    }
   ],
   "source": [
    "y_pred_labels"
   ]
  },
  {
   "cell_type": "code",
   "execution_count": null,
   "id": "2a98638b",
   "metadata": {},
   "outputs": [],
   "source": []
  },
  {
   "cell_type": "raw",
   "id": "73f5770e",
   "metadata": {},
   "source": [
    "# 原训练代码\n",
    "epochs = 20\n",
    "batch_size = 64\n",
    "for epoch in range(epochs):\n",
    "    model.train()\n",
    "    permutation = torch.randperm(G_X_train.size()[0])\n",
    "    for i in range(0, G_X_train.size()[0], batch_size):\n",
    "        indices = permutation[i:i + batch_size]\n",
    "        batch_X, batch_y = G_X_train[indices], G_y_train[indices]\n",
    "\n",
    "        # 前向传播\n",
    "        outputs = model(batch_X)\n",
    "        loss = criterion(outputs, batch_y)\n",
    "\n",
    "        # 反向传播和优化\n",
    "        optimizer.zero_grad()\n",
    "        loss.backward()\n",
    "        optimizer.step()\n",
    "\n",
    "    # 打印每个 epoch 的损失\n",
    "    print(f\"Epoch {epoch+1}/{epochs}, Loss: {loss.item():.4f}\")"
   ]
  }
 ],
 "metadata": {
  "kernelspec": {
   "display_name": "python3.13;cuda",
   "language": "python",
   "name": "py313cuda"
  },
  "language_info": {
   "codemirror_mode": {
    "name": "ipython",
    "version": 3
   },
   "file_extension": ".py",
   "mimetype": "text/x-python",
   "name": "python",
   "nbconvert_exporter": "python",
   "pygments_lexer": "ipython3",
   "version": "3.13.1"
  }
 },
 "nbformat": 4,
 "nbformat_minor": 5
}
